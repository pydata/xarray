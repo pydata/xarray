{
 "cells": [
  {
   "cell_type": "markdown",
   "id": "d8f54f6a",
   "metadata": {},
   "source": [
    "# Blank template\n",
    "\n",
    "Use this notebook from Binder to test an issue or reproduce a bug report"
   ]
  },
  {
   "cell_type": "code",
   "execution_count": null,
   "id": "41b90ede",
   "metadata": {},
   "outputs": [],
   "source": [
    "import xarray as xr\n",
    "import numpy as np\n",
    "import pandas as pd\n",
    "\n",
    "ds = xr.tutorial.load_dataset(\"air_temperature\")\n",
    "da = ds[\"air\"]"
   ]
  },
  {
   "cell_type": "code",
   "execution_count": null,
   "id": "effd9aeb",
   "metadata": {},
   "outputs": [],
   "source": []
  }
 ],
 "metadata": {
  "kernelspec": {
   "display_name": "Python 3",
   "language": "python",
   "name": "python3"
  },
  "language_info": {
   "codemirror_mode": {
    "name": "ipython",
    "version": 3
   },
   "file_extension": ".py",
   "mimetype": "text/x-python",
   "name": "python",
   "nbconvert_exporter": "python",
   "pygments_lexer": "ipython3",
   "version": "3.8.10"
  }
 },
 "nbformat": 4,
 "nbformat_minor": 5
}
